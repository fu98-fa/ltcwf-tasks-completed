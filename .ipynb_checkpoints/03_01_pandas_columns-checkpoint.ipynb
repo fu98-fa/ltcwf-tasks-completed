{
 "cells": [
  {
   "cell_type": "code",
   "execution_count": 1,
   "id": "c69f788b-771e-431d-a9f7-6e74ccfee9a3",
   "metadata": {},
   "outputs": [],
   "source": [
    "import pandas as pd\n",
    "from os import path\n",
    "import numpy as np"
   ]
  },
  {
   "cell_type": "code",
   "execution_count": 3,
   "id": "b3a4a5db-50b3-4f6d-930a-3e0ebf91e5e2",
   "metadata": {},
   "outputs": [],
   "source": [
    "DATA_DIR = '/Users/fu/Desktop/football_analytics/code-soccer-files-0.2.0/data'"
   ]
  },
  {
   "cell_type": "code",
   "execution_count": 9,
   "id": "458f5117-7f3b-45aa-89ad-676e6c9c4281",
   "metadata": {},
   "outputs": [],
   "source": [
    "# 3.1.1\n",
    "\n",
    "pm = pd.read_csv(path.join(DATA_DIR, 'player_match.csv'))"
   ]
  },
  {
   "cell_type": "code",
   "execution_count": 15,
   "id": "9730d70b-2145-4d28-bc8c-297e86d67eba",
   "metadata": {},
   "outputs": [
    {
     "data": {
      "text/plain": [
       "array(['name', 'team', 'min', 'shot', 'goal', 'goal_allowed', 'assist',\n",
       "       'player_id', 'match_id', 'date', 'pass', 'pass_accurate', 'tackle',\n",
       "       'accel', 'counter', 'opportunity', 'keypass', 'own_goal',\n",
       "       'interception', 'smart', 'clearance', 'cross', 'air_duel',\n",
       "       'air_duel_won', 'gk_leave_line', 'gk_save_attempt', 'throw',\n",
       "       'corner', 'pos', 'side', 'player_rank', 'started'], dtype=object)"
      ]
     },
     "execution_count": 15,
     "metadata": {},
     "output_type": "execute_result"
    }
   ],
   "source": [
    "pm.columns.values"
   ]
  },
  {
   "cell_type": "code",
   "execution_count": 35,
   "id": "e7fdd24f-b9bf-4f9e-b6d3-3ee3ff13a410",
   "metadata": {},
   "outputs": [
    {
     "data": {
      "text/plain": [
       "0     0\n",
       "1    16\n",
       "2     0\n",
       "3     0\n",
       "4     0\n",
       "Name: ob_touches, dtype: int64"
      ]
     },
     "execution_count": 35,
     "metadata": {},
     "output_type": "execute_result"
    }
   ],
   "source": [
    "# 3.1.2\n",
    "\n",
    "pm['ob_touches'] = pm['throw'] + pm['corner']\n",
    "pm['ob_touches'].head()"
   ]
  },
  {
   "cell_type": "code",
   "execution_count": 37,
   "id": "14fb8a67-43d2-4408-9614-7184d0c0a8e4",
   "metadata": {},
   "outputs": [
    {
     "data": {
      "text/plain": [
       "0       D. Cheryshev is the Russia MID\n",
       "1    Mário Fernandes is the Russia DEF\n",
       "2        I. Akinfeev is the Russia GKP\n",
       "3     S. Ignashevich is the Russia DEF\n",
       "4         A. Dzagoev is the Russia MID\n",
       "Name: player_desc, dtype: object"
      ]
     },
     "execution_count": 37,
     "metadata": {},
     "output_type": "execute_result"
    }
   ],
   "source": [
    "# 3.1.3\n",
    "\n",
    "pm['player_desc'] = pm['name'] + ' ' + 'is the ' + pm['team'] + ' ' + pm['pos']\n",
    "pm['player_desc'].head()"
   ]
  },
  {
   "cell_type": "code",
   "execution_count": 39,
   "id": "46db64db-045d-4fa7-a291-1cdaa95d8f69",
   "metadata": {},
   "outputs": [
    {
     "data": {
      "text/plain": [
       "0    False\n",
       "1     True\n",
       "2    False\n",
       "3    False\n",
       "4    False\n",
       "Name: at_least_one_throwin, dtype: bool"
      ]
     },
     "execution_count": 39,
     "metadata": {},
     "output_type": "execute_result"
    }
   ],
   "source": [
    "# 3.1.4\n",
    "\n",
    "pm['at_least_one_throwin'] = pm['throw'] > 0\n",
    "pm['at_least_one_throwin'].head()"
   ]
  },
  {
   "cell_type": "code",
   "execution_count": 41,
   "id": "249483a8-3297-48cf-b34d-b74556bb47fe",
   "metadata": {},
   "outputs": [
    {
     "data": {
      "text/plain": [
       "0     9\n",
       "1     9\n",
       "2     8\n",
       "3    11\n",
       "4     7\n",
       "Name: len_last_name, dtype: int64"
      ]
     },
     "execution_count": 41,
     "metadata": {},
     "output_type": "execute_result"
    }
   ],
   "source": [
    "# 3.1.5\n",
    "\n",
    "pm['len_last_name'] = (pm['name'].apply(lambda x: len(x.split(' ')[-1])))\n",
    "pm['len_last_name'].head()"
   ]
  },
  {
   "cell_type": "code",
   "execution_count": 43,
   "id": "17d9420e-b124-48fc-8294-73020e4a5a59",
   "metadata": {},
   "outputs": [
    {
     "data": {
      "text/plain": [
       "1115    2057997\n",
       "1506    2058012\n",
       "503     2057975\n",
       "1438    2058009\n",
       "339     2057967\n",
       "Name: match_id, dtype: object"
      ]
     },
     "execution_count": 43,
     "metadata": {},
     "output_type": "execute_result"
    }
   ],
   "source": [
    "# 3.1.6\n",
    "\n",
    "pm['match_id'].astype(str).sample(5)"
   ]
  },
  {
   "cell_type": "code",
   "execution_count": 47,
   "id": "1de64897-5299-42bd-a3b8-a73c9f9fe8b3",
   "metadata": {},
   "outputs": [
    {
     "data": {
      "text/html": [
       "<div>\n",
       "<style scoped>\n",
       "    .dataframe tbody tr th:only-of-type {\n",
       "        vertical-align: middle;\n",
       "    }\n",
       "\n",
       "    .dataframe tbody tr th {\n",
       "        vertical-align: top;\n",
       "    }\n",
       "\n",
       "    .dataframe thead th {\n",
       "        text-align: right;\n",
       "    }\n",
       "</style>\n",
       "<table border=\"1\" class=\"dataframe\">\n",
       "  <thead>\n",
       "    <tr style=\"text-align: right;\">\n",
       "      <th></th>\n",
       "      <th>name</th>\n",
       "      <th>team</th>\n",
       "      <th>min</th>\n",
       "      <th>shot</th>\n",
       "      <th>goal</th>\n",
       "      <th>goal allowed</th>\n",
       "      <th>assist</th>\n",
       "      <th>player id</th>\n",
       "      <th>match id</th>\n",
       "      <th>date</th>\n",
       "      <th>...</th>\n",
       "      <th>throw</th>\n",
       "      <th>corner</th>\n",
       "      <th>pos</th>\n",
       "      <th>side</th>\n",
       "      <th>player rank</th>\n",
       "      <th>started</th>\n",
       "      <th>ob touches</th>\n",
       "      <th>player desc</th>\n",
       "      <th>at least one throwin</th>\n",
       "      <th>len last name</th>\n",
       "    </tr>\n",
       "  </thead>\n",
       "  <tbody>\n",
       "    <tr>\n",
       "      <th>0</th>\n",
       "      <td>D. Cheryshev</td>\n",
       "      <td>Russia</td>\n",
       "      <td>66.0</td>\n",
       "      <td>3</td>\n",
       "      <td>2</td>\n",
       "      <td>0</td>\n",
       "      <td>0</td>\n",
       "      <td>4513</td>\n",
       "      <td>2057954</td>\n",
       "      <td>20180614</td>\n",
       "      <td>...</td>\n",
       "      <td>0</td>\n",
       "      <td>0</td>\n",
       "      <td>MID</td>\n",
       "      <td>left</td>\n",
       "      <td>0.0405</td>\n",
       "      <td>False</td>\n",
       "      <td>0</td>\n",
       "      <td>D. Cheryshev is the Russia MID</td>\n",
       "      <td>False</td>\n",
       "      <td>9</td>\n",
       "    </tr>\n",
       "    <tr>\n",
       "      <th>1</th>\n",
       "      <td>Mário Fernandes</td>\n",
       "      <td>Russia</td>\n",
       "      <td>90.0</td>\n",
       "      <td>0</td>\n",
       "      <td>0</td>\n",
       "      <td>0</td>\n",
       "      <td>0</td>\n",
       "      <td>41123</td>\n",
       "      <td>2057954</td>\n",
       "      <td>20180614</td>\n",
       "      <td>...</td>\n",
       "      <td>16</td>\n",
       "      <td>0</td>\n",
       "      <td>DEF</td>\n",
       "      <td>right</td>\n",
       "      <td>-0.0001</td>\n",
       "      <td>True</td>\n",
       "      <td>16</td>\n",
       "      <td>Mário Fernandes is the Russia DEF</td>\n",
       "      <td>True</td>\n",
       "      <td>9</td>\n",
       "    </tr>\n",
       "    <tr>\n",
       "      <th>2</th>\n",
       "      <td>I. Akinfeev</td>\n",
       "      <td>Russia</td>\n",
       "      <td>NaN</td>\n",
       "      <td>0</td>\n",
       "      <td>0</td>\n",
       "      <td>0</td>\n",
       "      <td>0</td>\n",
       "      <td>101576</td>\n",
       "      <td>2057954</td>\n",
       "      <td>20180614</td>\n",
       "      <td>...</td>\n",
       "      <td>0</td>\n",
       "      <td>0</td>\n",
       "      <td>GKP</td>\n",
       "      <td>NaN</td>\n",
       "      <td>NaN</td>\n",
       "      <td>True</td>\n",
       "      <td>0</td>\n",
       "      <td>I. Akinfeev is the Russia GKP</td>\n",
       "      <td>False</td>\n",
       "      <td>8</td>\n",
       "    </tr>\n",
       "    <tr>\n",
       "      <th>3</th>\n",
       "      <td>S. Ignashevich</td>\n",
       "      <td>Russia</td>\n",
       "      <td>90.0</td>\n",
       "      <td>0</td>\n",
       "      <td>0</td>\n",
       "      <td>0</td>\n",
       "      <td>0</td>\n",
       "      <td>101583</td>\n",
       "      <td>2057954</td>\n",
       "      <td>20180614</td>\n",
       "      <td>...</td>\n",
       "      <td>0</td>\n",
       "      <td>0</td>\n",
       "      <td>DEF</td>\n",
       "      <td>left</td>\n",
       "      <td>0.0166</td>\n",
       "      <td>True</td>\n",
       "      <td>0</td>\n",
       "      <td>S. Ignashevich is the Russia DEF</td>\n",
       "      <td>False</td>\n",
       "      <td>11</td>\n",
       "    </tr>\n",
       "    <tr>\n",
       "      <th>4</th>\n",
       "      <td>A. Dzagoev</td>\n",
       "      <td>Russia</td>\n",
       "      <td>24.0</td>\n",
       "      <td>0</td>\n",
       "      <td>0</td>\n",
       "      <td>0</td>\n",
       "      <td>0</td>\n",
       "      <td>101590</td>\n",
       "      <td>2057954</td>\n",
       "      <td>20180614</td>\n",
       "      <td>...</td>\n",
       "      <td>0</td>\n",
       "      <td>0</td>\n",
       "      <td>MID</td>\n",
       "      <td>central</td>\n",
       "      <td>0.0039</td>\n",
       "      <td>True</td>\n",
       "      <td>0</td>\n",
       "      <td>A. Dzagoev is the Russia MID</td>\n",
       "      <td>False</td>\n",
       "      <td>7</td>\n",
       "    </tr>\n",
       "  </tbody>\n",
       "</table>\n",
       "<p>5 rows × 36 columns</p>\n",
       "</div>"
      ],
      "text/plain": [
       "              name    team   min  shot  goal  goal allowed  assist  player id  \\\n",
       "0     D. Cheryshev  Russia  66.0     3     2             0       0       4513   \n",
       "1  Mário Fernandes  Russia  90.0     0     0             0       0      41123   \n",
       "2      I. Akinfeev  Russia   NaN     0     0             0       0     101576   \n",
       "3   S. Ignashevich  Russia  90.0     0     0             0       0     101583   \n",
       "4       A. Dzagoev  Russia  24.0     0     0             0       0     101590   \n",
       "\n",
       "   match id      date  ...  throw  corner  pos     side  player rank  started  \\\n",
       "0   2057954  20180614  ...      0       0  MID     left       0.0405    False   \n",
       "1   2057954  20180614  ...     16       0  DEF    right      -0.0001     True   \n",
       "2   2057954  20180614  ...      0       0  GKP      NaN          NaN     True   \n",
       "3   2057954  20180614  ...      0       0  DEF     left       0.0166     True   \n",
       "4   2057954  20180614  ...      0       0  MID  central       0.0039     True   \n",
       "\n",
       "   ob touches                        player desc  at least one throwin  \\\n",
       "0           0     D. Cheryshev is the Russia MID                 False   \n",
       "1          16  Mário Fernandes is the Russia DEF                  True   \n",
       "2           0      I. Akinfeev is the Russia GKP                 False   \n",
       "3           0   S. Ignashevich is the Russia DEF                 False   \n",
       "4           0       A. Dzagoev is the Russia MID                 False   \n",
       "\n",
       "   len last name  \n",
       "0              9  \n",
       "1              9  \n",
       "2              8  \n",
       "3             11  \n",
       "4              7  \n",
       "\n",
       "[5 rows x 36 columns]"
      ]
     },
     "execution_count": 47,
     "metadata": {},
     "output_type": "execute_result"
    }
   ],
   "source": [
    "# 3.1.7\n",
    "\n",
    "# a\n",
    "pm.columns = [x.replace('_', ' ') for x in pm.columns]\n",
    "pm.head()"
   ]
  },
  {
   "cell_type": "code",
   "execution_count": 49,
   "id": "4bcaa2a2-2cee-4624-85ff-691964c04488",
   "metadata": {},
   "outputs": [
    {
     "data": {
      "text/html": [
       "<div>\n",
       "<style scoped>\n",
       "    .dataframe tbody tr th:only-of-type {\n",
       "        vertical-align: middle;\n",
       "    }\n",
       "\n",
       "    .dataframe tbody tr th {\n",
       "        vertical-align: top;\n",
       "    }\n",
       "\n",
       "    .dataframe thead th {\n",
       "        text-align: right;\n",
       "    }\n",
       "</style>\n",
       "<table border=\"1\" class=\"dataframe\">\n",
       "  <thead>\n",
       "    <tr style=\"text-align: right;\">\n",
       "      <th></th>\n",
       "      <th>name</th>\n",
       "      <th>team</th>\n",
       "      <th>min</th>\n",
       "      <th>shot</th>\n",
       "      <th>goal</th>\n",
       "      <th>goal_allowed</th>\n",
       "      <th>assist</th>\n",
       "      <th>player_id</th>\n",
       "      <th>match_id</th>\n",
       "      <th>date</th>\n",
       "      <th>...</th>\n",
       "      <th>throw</th>\n",
       "      <th>corner</th>\n",
       "      <th>pos</th>\n",
       "      <th>side</th>\n",
       "      <th>player_rank</th>\n",
       "      <th>started</th>\n",
       "      <th>ob_touches</th>\n",
       "      <th>player_desc</th>\n",
       "      <th>at_least_one_throwin</th>\n",
       "      <th>len_last_name</th>\n",
       "    </tr>\n",
       "  </thead>\n",
       "  <tbody>\n",
       "    <tr>\n",
       "      <th>0</th>\n",
       "      <td>D. Cheryshev</td>\n",
       "      <td>Russia</td>\n",
       "      <td>66.0</td>\n",
       "      <td>3</td>\n",
       "      <td>2</td>\n",
       "      <td>0</td>\n",
       "      <td>0</td>\n",
       "      <td>4513</td>\n",
       "      <td>2057954</td>\n",
       "      <td>20180614</td>\n",
       "      <td>...</td>\n",
       "      <td>0</td>\n",
       "      <td>0</td>\n",
       "      <td>MID</td>\n",
       "      <td>left</td>\n",
       "      <td>0.0405</td>\n",
       "      <td>False</td>\n",
       "      <td>0</td>\n",
       "      <td>D. Cheryshev is the Russia MID</td>\n",
       "      <td>False</td>\n",
       "      <td>9</td>\n",
       "    </tr>\n",
       "    <tr>\n",
       "      <th>1</th>\n",
       "      <td>Mário Fernandes</td>\n",
       "      <td>Russia</td>\n",
       "      <td>90.0</td>\n",
       "      <td>0</td>\n",
       "      <td>0</td>\n",
       "      <td>0</td>\n",
       "      <td>0</td>\n",
       "      <td>41123</td>\n",
       "      <td>2057954</td>\n",
       "      <td>20180614</td>\n",
       "      <td>...</td>\n",
       "      <td>16</td>\n",
       "      <td>0</td>\n",
       "      <td>DEF</td>\n",
       "      <td>right</td>\n",
       "      <td>-0.0001</td>\n",
       "      <td>True</td>\n",
       "      <td>16</td>\n",
       "      <td>Mário Fernandes is the Russia DEF</td>\n",
       "      <td>True</td>\n",
       "      <td>9</td>\n",
       "    </tr>\n",
       "    <tr>\n",
       "      <th>2</th>\n",
       "      <td>I. Akinfeev</td>\n",
       "      <td>Russia</td>\n",
       "      <td>NaN</td>\n",
       "      <td>0</td>\n",
       "      <td>0</td>\n",
       "      <td>0</td>\n",
       "      <td>0</td>\n",
       "      <td>101576</td>\n",
       "      <td>2057954</td>\n",
       "      <td>20180614</td>\n",
       "      <td>...</td>\n",
       "      <td>0</td>\n",
       "      <td>0</td>\n",
       "      <td>GKP</td>\n",
       "      <td>NaN</td>\n",
       "      <td>NaN</td>\n",
       "      <td>True</td>\n",
       "      <td>0</td>\n",
       "      <td>I. Akinfeev is the Russia GKP</td>\n",
       "      <td>False</td>\n",
       "      <td>8</td>\n",
       "    </tr>\n",
       "    <tr>\n",
       "      <th>3</th>\n",
       "      <td>S. Ignashevich</td>\n",
       "      <td>Russia</td>\n",
       "      <td>90.0</td>\n",
       "      <td>0</td>\n",
       "      <td>0</td>\n",
       "      <td>0</td>\n",
       "      <td>0</td>\n",
       "      <td>101583</td>\n",
       "      <td>2057954</td>\n",
       "      <td>20180614</td>\n",
       "      <td>...</td>\n",
       "      <td>0</td>\n",
       "      <td>0</td>\n",
       "      <td>DEF</td>\n",
       "      <td>left</td>\n",
       "      <td>0.0166</td>\n",
       "      <td>True</td>\n",
       "      <td>0</td>\n",
       "      <td>S. Ignashevich is the Russia DEF</td>\n",
       "      <td>False</td>\n",
       "      <td>11</td>\n",
       "    </tr>\n",
       "    <tr>\n",
       "      <th>4</th>\n",
       "      <td>A. Dzagoev</td>\n",
       "      <td>Russia</td>\n",
       "      <td>24.0</td>\n",
       "      <td>0</td>\n",
       "      <td>0</td>\n",
       "      <td>0</td>\n",
       "      <td>0</td>\n",
       "      <td>101590</td>\n",
       "      <td>2057954</td>\n",
       "      <td>20180614</td>\n",
       "      <td>...</td>\n",
       "      <td>0</td>\n",
       "      <td>0</td>\n",
       "      <td>MID</td>\n",
       "      <td>central</td>\n",
       "      <td>0.0039</td>\n",
       "      <td>True</td>\n",
       "      <td>0</td>\n",
       "      <td>A. Dzagoev is the Russia MID</td>\n",
       "      <td>False</td>\n",
       "      <td>7</td>\n",
       "    </tr>\n",
       "  </tbody>\n",
       "</table>\n",
       "<p>5 rows × 36 columns</p>\n",
       "</div>"
      ],
      "text/plain": [
       "              name    team   min  shot  goal  goal_allowed  assist  player_id  \\\n",
       "0     D. Cheryshev  Russia  66.0     3     2             0       0       4513   \n",
       "1  Mário Fernandes  Russia  90.0     0     0             0       0      41123   \n",
       "2      I. Akinfeev  Russia   NaN     0     0             0       0     101576   \n",
       "3   S. Ignashevich  Russia  90.0     0     0             0       0     101583   \n",
       "4       A. Dzagoev  Russia  24.0     0     0             0       0     101590   \n",
       "\n",
       "   match_id      date  ...  throw  corner  pos     side  player_rank  started  \\\n",
       "0   2057954  20180614  ...      0       0  MID     left       0.0405    False   \n",
       "1   2057954  20180614  ...     16       0  DEF    right      -0.0001     True   \n",
       "2   2057954  20180614  ...      0       0  GKP      NaN          NaN     True   \n",
       "3   2057954  20180614  ...      0       0  DEF     left       0.0166     True   \n",
       "4   2057954  20180614  ...      0       0  MID  central       0.0039     True   \n",
       "\n",
       "   ob_touches                        player_desc  at_least_one_throwin  \\\n",
       "0           0     D. Cheryshev is the Russia MID                 False   \n",
       "1          16  Mário Fernandes is the Russia DEF                  True   \n",
       "2           0      I. Akinfeev is the Russia GKP                 False   \n",
       "3           0   S. Ignashevich is the Russia DEF                 False   \n",
       "4           0       A. Dzagoev is the Russia MID                 False   \n",
       "\n",
       "   len_last_name  \n",
       "0              9  \n",
       "1              9  \n",
       "2              8  \n",
       "3             11  \n",
       "4              7  \n",
       "\n",
       "[5 rows x 36 columns]"
      ]
     },
     "execution_count": 49,
     "metadata": {},
     "output_type": "execute_result"
    }
   ],
   "source": [
    "# b\n",
    "\n",
    "pm.columns = [x.replace(' ', '_') for x in pm.columns]\n",
    "pm.head()"
   ]
  },
  {
   "cell_type": "code",
   "execution_count": 57,
   "id": "4f2e0472-b31e-493b-8b74-fa933c3a2a4a",
   "metadata": {},
   "outputs": [
    {
     "data": {
      "text/plain": [
       "0    100.0\n",
       "1     70.0\n",
       "2      NaN\n",
       "3     90.0\n",
       "4    100.0\n",
       "Name: air_duel_won_percentage, dtype: float64"
      ]
     },
     "execution_count": 57,
     "metadata": {},
     "output_type": "execute_result"
    }
   ],
   "source": [
    "# 3.1.8\n",
    "\n",
    "#a\n",
    "pm['air_duel_won_percentage'] = 100*pm['air_duel_won']/pm['air_duel']\n",
    "pm['air_duel_won_percentage'].head()"
   ]
  },
  {
   "cell_type": "code",
   "execution_count": 59,
   "id": "034f3844-0909-49e3-bd4a-09283290fe2c",
   "metadata": {},
   "outputs": [
    {
     "data": {
      "text/plain": [
       "0    100.000000\n",
       "1     70.000000\n",
       "2    -99.000000\n",
       "3     90.000000\n",
       "4    100.000000\n",
       "5     50.000000\n",
       "6     40.000000\n",
       "7     33.333333\n",
       "8     75.000000\n",
       "9    100.000000\n",
       "Name: air_duel_won_percentage, dtype: float64"
      ]
     },
     "execution_count": 59,
     "metadata": {},
     "output_type": "execute_result"
    }
   ],
   "source": [
    "# b\n",
    "pm['air_duel_won_percentage'].fillna(-99).head(10)"
   ]
  },
  {
   "cell_type": "code",
   "execution_count": 61,
   "id": "e4557bf6-1fc7-43a8-b9c9-eced74eb5f99",
   "metadata": {},
   "outputs": [
    {
     "data": {
      "text/plain": [
       "array(['name', 'team', 'min', 'shot', 'goal', 'goal_allowed', 'assist',\n",
       "       'player_id', 'match_id', 'date', 'pass', 'pass_accurate', 'tackle',\n",
       "       'accel', 'counter', 'opportunity', 'keypass', 'own_goal',\n",
       "       'interception', 'smart', 'clearance', 'cross', 'air_duel',\n",
       "       'air_duel_won', 'gk_leave_line', 'gk_save_attempt', 'throw',\n",
       "       'corner', 'pos', 'side', 'player_rank', 'started', 'ob_touches',\n",
       "       'player_desc', 'at_least_one_throwin', 'len_last_name'],\n",
       "      dtype=object)"
      ]
     },
     "execution_count": 61,
     "metadata": {},
     "output_type": "execute_result"
    }
   ],
   "source": [
    "# 3.1.9\n",
    "\n",
    "pm.drop('air_duel_won_percentage', axis=1, inplace=True)\n",
    "pm.columns.values"
   ]
  },
  {
   "cell_type": "code",
   "execution_count": null,
   "id": "94548a69-a332-445e-9c98-2d0a96d81d38",
   "metadata": {},
   "outputs": [],
   "source": []
  }
 ],
 "metadata": {
  "kernelspec": {
   "display_name": "Python [conda env:base] *",
   "language": "python",
   "name": "conda-base-py"
  },
  "language_info": {
   "codemirror_mode": {
    "name": "ipython",
    "version": 3
   },
   "file_extension": ".py",
   "mimetype": "text/x-python",
   "name": "python",
   "nbconvert_exporter": "python",
   "pygments_lexer": "ipython3",
   "version": "3.12.7"
  }
 },
 "nbformat": 4,
 "nbformat_minor": 5
}
