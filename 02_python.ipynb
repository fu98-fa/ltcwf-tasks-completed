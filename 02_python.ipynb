{
 "cells": [
  {
   "cell_type": "code",
   "execution_count": null,
   "id": "1b97b739-0529-477d-a8c5-da0ceb013f45",
   "metadata": {},
   "outputs": [],
   "source": [
    "# 2.1\n",
    "\n",
    "# Valid Python variable names\n",
    "\n",
    "'''\n",
    "_throwaway_data\n",
    "n_shots\n",
    "shotsOnGoals (?) - Camel Case not preferred in Python\n",
    "wc_2018_champion\n",
    "'''"
   ]
  },
  {
   "cell_type": "code",
   "execution_count": 46,
   "id": "0a55c85f-b818-4b59-90d3-8ab67e0bbf91",
   "metadata": {},
   "outputs": [
    {
     "data": {
      "text/plain": [
       "95"
      ]
     },
     "execution_count": 46,
     "metadata": {},
     "output_type": "execute_result"
    }
   ],
   "source": [
    "# 2.2\n",
    "\n",
    "match_minutes = 45\n",
    "match_minutes = match_minutes + 45\n",
    "match_minutes = match_minutes + 5\n",
    "\n",
    "match_minutes # 95"
   ]
  },
  {
   "cell_type": "code",
   "execution_count": 6,
   "id": "621c24f0-1f45-4eac-86c8-fdf81ce5e2f6",
   "metadata": {},
   "outputs": [
    {
     "data": {
      "text/plain": [
       "'Messi with the goal!'"
      ]
     },
     "execution_count": 6,
     "metadata": {},
     "output_type": "execute_result"
    }
   ],
   "source": [
    "# 2.3\n",
    "\n",
    "player_name = \"Messi\"\n",
    "player_stat = \"goal\"\n",
    "\n",
    "player_action = f'{player_name} with the {player_stat}!'\n",
    "\n",
    "player_action"
   ]
  },
  {
   "cell_type": "code",
   "execution_count": 14,
   "id": "8ca2052a-5b5d-4844-9372-dfa73851edc5",
   "metadata": {},
   "outputs": [
    {
     "data": {
      "text/plain": [
       "True"
      ]
     },
     "execution_count": 14,
     "metadata": {},
     "output_type": "execute_result"
    }
   ],
   "source": [
    "# 2.4\n",
    "\n",
    "\"goal\".islower()"
   ]
  },
  {
   "cell_type": "code",
   "execution_count": 22,
   "id": "8d9aa798-988b-4402-8e5f-46030ac5c751",
   "metadata": {},
   "outputs": [
    {
     "data": {
      "text/plain": [
       "True"
      ]
     },
     "execution_count": 22,
     "metadata": {},
     "output_type": "execute_result"
    }
   ],
   "source": [
    "# 2.5\n",
    "\n",
    "def is_oconnell(player):\n",
    "    return player.replace(\"'\", '').lower() == 'jack oconnell'\n",
    "\n",
    "is_oconnell(\"Jack O'Connell\")"
   ]
  },
  {
   "cell_type": "code",
   "execution_count": 40,
   "id": "d2ad49bf-ce51-4e5d-bfe4-b5dd822bd06e",
   "metadata": {},
   "outputs": [],
   "source": [
    "# 2.6\n",
    "\n",
    "def a_lot_of_goals(goals):\n",
    "    if goals >= 4:\n",
    "        return f'{goals} is a lot of goals!'\n",
    "    else:\n",
    "        return f'{goals} is not that many goals'"
   ]
  },
  {
   "cell_type": "code",
   "execution_count": 44,
   "id": "84add35c-f027-4d3d-8c20-15f141430746",
   "metadata": {},
   "outputs": [
    {
     "data": {
      "text/plain": [
       "'5 is a lot of goals!'"
      ]
     },
     "execution_count": 44,
     "metadata": {},
     "output_type": "execute_result"
    }
   ],
   "source": [
    "a_lot_of_goals(5)"
   ]
  },
  {
   "cell_type": "code",
   "execution_count": 52,
   "id": "9ef6d541-4668-4081-8a28-b26b213ffbfd",
   "metadata": {},
   "outputs": [],
   "source": [
    "# 2.7\n",
    "\n",
    "roster = ['ruben dias', 'gabriel jesus', 'riyad mahrez']"
   ]
  },
  {
   "cell_type": "code",
   "execution_count": 66,
   "id": "684f0b44-cb5a-4fec-8396-22a13c08fa6a",
   "metadata": {},
   "outputs": [
    {
     "data": {
      "text/plain": [
       "['ruben dias', 'gabriel jesus']"
      ]
     },
     "execution_count": 66,
     "metadata": {},
     "output_type": "execute_result"
    }
   ],
   "source": [
    "# 1\n",
    "roster[0:2]"
   ]
  },
  {
   "cell_type": "code",
   "execution_count": 76,
   "id": "ea08afe1-371c-423d-960f-73c1fa860b45",
   "metadata": {},
   "outputs": [
    {
     "data": {
      "text/plain": [
       "['ruben dias', 'gabriel jesus']"
      ]
     },
     "execution_count": 76,
     "metadata": {},
     "output_type": "execute_result"
    }
   ],
   "source": [
    "# 2\n",
    "roster[:-1]"
   ]
  },
  {
   "cell_type": "code",
   "execution_count": 90,
   "id": "0041c9ec-8c2e-45f0-bbcb-695ddf3895d0",
   "metadata": {},
   "outputs": [
    {
     "data": {
      "text/plain": [
       "['ruben dias', 'gabriel jesus']"
      ]
     },
     "execution_count": 90,
     "metadata": {},
     "output_type": "execute_result"
    }
   ],
   "source": [
    "# 3\n",
    "[x for x in roster][:2]"
   ]
  },
  {
   "cell_type": "code",
   "execution_count": 94,
   "id": "7fae2db0-41e4-4fc9-890b-203da3679c03",
   "metadata": {},
   "outputs": [],
   "source": [
    "# 2.8\n",
    "\n",
    "shot_info = {'shooter': 'Robert Lewandowski', 'foot': 'right', 'went_in': False}"
   ]
  },
  {
   "cell_type": "code",
   "execution_count": 98,
   "id": "c94754d3-6722-4a12-8075-da334a02f757",
   "metadata": {},
   "outputs": [
    {
     "data": {
      "text/plain": [
       "{'shooter': 'Cristiano Ronaldo', 'foot': 'right', 'went_in': False}"
      ]
     },
     "execution_count": 98,
     "metadata": {},
     "output_type": "execute_result"
    }
   ],
   "source": [
    "# a\n",
    "shot_info['shooter'] = 'Cristiano Ronaldo'\n",
    "shot_info"
   ]
  },
  {
   "cell_type": "code",
   "execution_count": 114,
   "id": "99aee433-7668-4ec6-a00e-a5b09ba858bb",
   "metadata": {},
   "outputs": [
    {
     "data": {
      "text/plain": [
       "{'shooter': 'Cristiano Ronaldo', 'foot': 'right', 'went_in': False}"
      ]
     },
     "execution_count": 114,
     "metadata": {},
     "output_type": "execute_result"
    }
   ],
   "source": [
    "# b\n",
    "def toggle_foot(info):\n",
    "    if info['foot'] == 'right':\n",
    "        info['foot'] = 'left'\n",
    "    else:\n",
    "        info['foot'] = 'right'\n",
    "    return info\n",
    "\n",
    "shot_info\n",
    "toggle_foot(shot_info)"
   ]
  },
  {
   "cell_type": "code",
   "execution_count": 116,
   "id": "59b0e3fb-5f98-4b52-ad8c-3160c0a75597",
   "metadata": {},
   "outputs": [],
   "source": [
    "# 2.9\n",
    "\n",
    "shot_info = {'shooter': 'Robert Lewandowski', 'foot': 'right', 'went_in': False}"
   ]
  },
  {
   "cell_type": "code",
   "execution_count": 118,
   "id": "e06fe8ee-77df-4c6f-9bcc-113caeda7daf",
   "metadata": {},
   "outputs": [
    {
     "data": {
      "text/plain": [
       "{'shooter': 'Robert Lewandowski',\n",
       " 'foot': 'right',\n",
       " 'went_in': False,\n",
       " 'distance': 20}"
      ]
     },
     "execution_count": 118,
     "metadata": {},
     "output_type": "execute_result"
    }
   ],
   "source": [
    "shot_info['distance'] = 20 # C - correct\n",
    "shot_info"
   ]
  },
  {
   "cell_type": "code",
   "execution_count": 120,
   "id": "4c41a1f2-9517-4139-850d-ffe158de8219",
   "metadata": {},
   "outputs": [],
   "source": [
    "# 2.10\n",
    "\n",
    "roster = ['ruben dias', 'gabriel jesus', 'riyad mahrez']"
   ]
  },
  {
   "cell_type": "code",
   "execution_count": 122,
   "id": "fc2f125e-7663-489d-9018-63b00c7d5ccd",
   "metadata": {},
   "outputs": [
    {
     "data": {
      "text/plain": [
       "['dias', 'jesus', 'mahrez']"
      ]
     },
     "execution_count": 122,
     "metadata": {},
     "output_type": "execute_result"
    }
   ],
   "source": [
    "# a\n",
    "roster_last_names = [full_name.split(' ')[1]\n",
    "                     for full_name in roster]\n",
    "roster_last_names"
   ]
  },
  {
   "cell_type": "code",
   "execution_count": 126,
   "id": "446fa31e-53d3-440f-98a5-548ae6eb6767",
   "metadata": {},
   "outputs": [
    {
     "data": {
      "text/plain": [
       "{'ruben dias': 10, 'gabriel jesus': 13, 'riyad mahrez': 12}"
      ]
     },
     "execution_count": 126,
     "metadata": {},
     "output_type": "execute_result"
    }
   ],
   "source": [
    "# b\n",
    "\n",
    "{player: len(player) for player in roster}"
   ]
  },
  {
   "cell_type": "code",
   "execution_count": 128,
   "id": "0859388e-e171-42c1-971f-fadf2b830f78",
   "metadata": {},
   "outputs": [],
   "source": [
    "# 2.11\n",
    "\n",
    "roster_dict = {'CB': 'ruben dias',\n",
    "               'CF': 'gabriel jesus',\n",
    "               'RW': 'riyad mahrez',\n",
    "               'LW': 'raheem sterling'}"
   ]
  },
  {
   "cell_type": "code",
   "execution_count": 130,
   "id": "7f70085a-6bf2-4b21-87da-c223db192aff",
   "metadata": {},
   "outputs": [
    {
     "data": {
      "text/plain": [
       "['CB', 'CF', 'RW', 'LW']"
      ]
     },
     "execution_count": 130,
     "metadata": {},
     "output_type": "execute_result"
    }
   ],
   "source": [
    "# a\n",
    "\n",
    "[pos for pos in roster_dict]"
   ]
  },
  {
   "cell_type": "code",
   "execution_count": 132,
   "id": "33cbc223-fba3-49cd-8520-da0c9162257f",
   "metadata": {},
   "outputs": [
    {
     "data": {
      "text/plain": [
       "['gabriel jesus', 'riyad mahrez']"
      ]
     },
     "execution_count": 132,
     "metadata": {},
     "output_type": "execute_result"
    }
   ],
   "source": [
    "# b\n",
    "\n",
    "[player for _, player in roster_dict.items()\n",
    "    if player.split(' ')[-1][0] in ['j', 'm']]"
   ]
  },
  {
   "cell_type": "code",
   "execution_count": 136,
   "id": "bc39c131-2ee3-4dd0-9bc0-932ca3ccf799",
   "metadata": {},
   "outputs": [
    {
     "data": {
      "text/plain": [
       "[5, 2, 1, 1, 7, 5]"
      ]
     },
     "execution_count": 136,
     "metadata": {},
     "output_type": "execute_result"
    }
   ],
   "source": [
    "# 2.12\n",
    "\n",
    "# a\n",
    "\n",
    "def mapper(my_list, my_function):\n",
    "    return [my_function(x) for x in my_list]\n",
    "\n",
    "# b\n",
    "match_minutes = [95, 92, 91, 91, 97, 95]\n",
    "\n",
    "mapper(match_minutes, lambda x: x - 90)"
   ]
  },
  {
   "cell_type": "code",
   "execution_count": null,
   "id": "385c7e3b-faa7-421c-a5a0-f36ed4b41794",
   "metadata": {},
   "outputs": [],
   "source": []
  }
 ],
 "metadata": {
  "kernelspec": {
   "display_name": "Python [conda env:base] *",
   "language": "python",
   "name": "conda-base-py"
  },
  "language_info": {
   "codemirror_mode": {
    "name": "ipython",
    "version": 3
   },
   "file_extension": ".py",
   "mimetype": "text/x-python",
   "name": "python",
   "nbconvert_exporter": "python",
   "pygments_lexer": "ipython3",
   "version": "3.12.7"
  }
 },
 "nbformat": 4,
 "nbformat_minor": 5
}
